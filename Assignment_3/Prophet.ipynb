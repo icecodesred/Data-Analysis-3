{
 "cells": [
  {
   "cell_type": "code",
   "execution_count": 2,
   "metadata": {
    "colab": {
     "base_uri": "https://localhost:8080/"
    },
    "id": "w19ibRfB9Yl0",
    "outputId": "919dc235-9434-40e8-97cf-88dfdf89cd4f"
   },
   "outputs": [],
   "source": [
    "import pandas as pd\n",
    "import numpy as np\n",
    "from prophet import Prophet\n",
    "from sklearn.metrics import mean_absolute_error, mean_squared_error, r2_score\n",
    "import matplotlib.pyplot as plt\n",
    "\n",
    "#the final attempt at forecasting is going to be done with facebook's prophet to handle multiple seasonalities.\n",
    "df = pd.read_csv(\"data.csv\", parse_dates=[\"ts\"])\n",
    "df = df.rename(columns={\"ts\": \"ds\", \"v1\": \"y\", \"v2\": \"v2_exog\"})"
   ]
  },
  {
   "cell_type": "code",
   "execution_count": 3,
   "metadata": {},
   "outputs": [
    {
     "name": "stderr",
     "output_type": "stream",
     "text": [
      "21:18:13 - cmdstanpy - INFO - Chain [1] start processing\n",
      "21:18:26 - cmdstanpy - INFO - Chain [1] done processing\n"
     ]
    },
    {
     "data": {
      "text/plain": [
       "<prophet.forecaster.Prophet at 0x248e93c4830>"
      ]
     },
     "execution_count": 3,
     "metadata": {},
     "output_type": "execute_result"
    }
   ],
   "source": [
    "model = Prophet(yearly_seasonality=True, weekly_seasonality=True, daily_seasonality=False)\n",
    "model.add_seasonality(name=\"daily\", period=1, fourier_order=10)\n",
    "model.add_regressor(\"v2_exog\")  #v2 added as an external regressor\n",
    "model.fit(df)"
   ]
  },
  {
   "cell_type": "code",
   "execution_count": 4,
   "metadata": {},
   "outputs": [],
   "source": [
    "#cross-validation\n",
    "def prophet_cross_validation(df, folds=5, holdout_size=30*24): #5 fold cross validation\n",
    "    errors = []\n",
    "    n = len(df)\n",
    "    train_size = int(n * 0.7)  \n",
    "\n",
    "    for i in range(folds):\n",
    "        train_end = train_size + (i * holdout_size) \n",
    "        if train_end + holdout_size > n:\n",
    "            break \n",
    "\n",
    "        train, test = df.iloc[:train_end], df.iloc[train_end:train_end+holdout_size]\n",
    "\n",
    "        \n",
    "        model = Prophet(yearly_seasonality=True, weekly_seasonality=True, daily_seasonality=False)\n",
    "        model.add_seasonality(name=\"daily\", period=1, fourier_order=10)  #high fourier number since daily data is volatile\n",
    "        model.add_regressor(\"v2_exog\") \n",
    "        model.fit(train)\n",
    "\n",
    "        future_test = model.make_future_dataframe(periods=len(test), freq=\"H\")\n",
    "\n",
    "        future_test = future_test.iloc[-len(test):].copy()  \n",
    "        future_test[\"v2_exog\"] = test[\"v2_exog\"].values \n",
    "\n",
    "        forecast_test = model.predict(future_test)\n",
    "\n",
    "        test_forecast = forecast_test.iloc[-len(test):]\n",
    "\n",
    "        actuals = test[\"y\"].values\n",
    "        predictions = test_forecast[\"yhat\"].values\n",
    "\n",
    "        mae = mean_absolute_error(actuals, predictions)\n",
    "        rmse = np.sqrt(mean_squared_error(actuals, predictions))  \n",
    "        r2 = r2_score(actuals, predictions)\n",
    "\n",
    "        errors.append({\"Fold\": i+1, \"MAE\": mae, \"RMSE\": rmse, \"R2\": r2})\n",
    "\n",
    "    return pd.DataFrame(errors)"
   ]
  },
  {
   "cell_type": "code",
   "execution_count": 5,
   "metadata": {},
   "outputs": [
    {
     "name": "stderr",
     "output_type": "stream",
     "text": [
      "21:19:18 - cmdstanpy - INFO - Chain [1] start processing\n",
      "21:19:25 - cmdstanpy - INFO - Chain [1] done processing\n",
      "C:\\Users\\Icy\\anaconda3\\Lib\\site-packages\\prophet\\forecaster.py:1854: FutureWarning: 'H' is deprecated and will be removed in a future version, please use 'h' instead.\n",
      "  dates = pd.date_range(\n",
      "21:19:26 - cmdstanpy - INFO - Chain [1] start processing\n",
      "21:19:31 - cmdstanpy - INFO - Chain [1] done processing\n",
      "C:\\Users\\Icy\\anaconda3\\Lib\\site-packages\\prophet\\forecaster.py:1854: FutureWarning: 'H' is deprecated and will be removed in a future version, please use 'h' instead.\n",
      "  dates = pd.date_range(\n",
      "21:19:32 - cmdstanpy - INFO - Chain [1] start processing\n",
      "21:19:38 - cmdstanpy - INFO - Chain [1] done processing\n",
      "C:\\Users\\Icy\\anaconda3\\Lib\\site-packages\\prophet\\forecaster.py:1854: FutureWarning: 'H' is deprecated and will be removed in a future version, please use 'h' instead.\n",
      "  dates = pd.date_range(\n",
      "21:19:40 - cmdstanpy - INFO - Chain [1] start processing\n",
      "21:19:47 - cmdstanpy - INFO - Chain [1] done processing\n",
      "C:\\Users\\Icy\\anaconda3\\Lib\\site-packages\\prophet\\forecaster.py:1854: FutureWarning: 'H' is deprecated and will be removed in a future version, please use 'h' instead.\n",
      "  dates = pd.date_range(\n",
      "21:19:48 - cmdstanpy - INFO - Chain [1] start processing\n",
      "21:19:55 - cmdstanpy - INFO - Chain [1] done processing\n",
      "C:\\Users\\Icy\\anaconda3\\Lib\\site-packages\\prophet\\forecaster.py:1854: FutureWarning: 'H' is deprecated and will be removed in a future version, please use 'h' instead.\n",
      "  dates = pd.date_range(\n"
     ]
    },
    {
     "name": "stdout",
     "output_type": "stream",
     "text": [
      "   Fold       MAE      RMSE        R2\n",
      "0     1  0.226814  0.314107  0.884896\n",
      "1     2  0.210677  0.294489  0.937346\n",
      "2     3  0.266296  0.428533  0.903023\n",
      "3     4  0.297561  0.429192  0.911501\n",
      "4     5  0.320152  0.433744  0.897858\n",
      "Fold    3.000000\n",
      "MAE     0.264300\n",
      "RMSE    0.380013\n",
      "R2      0.906925\n",
      "dtype: float64\n"
     ]
    }
   ],
   "source": [
    "cv_results = prophet_cross_validation(df, folds=5, holdout_size=30*24)\n",
    "print(cv_results)\n",
    "print(cv_results.mean())"
   ]
  },
  {
   "cell_type": "code",
   "execution_count": null,
   "metadata": {},
   "outputs": [],
   "source": []
  }
 ],
 "metadata": {
  "colab": {
   "provenance": []
  },
  "kernelspec": {
   "display_name": "Python 3 (ipykernel)",
   "language": "python",
   "name": "python3"
  },
  "language_info": {
   "codemirror_mode": {
    "name": "ipython",
    "version": 3
   },
   "file_extension": ".py",
   "mimetype": "text/x-python",
   "name": "python",
   "nbconvert_exporter": "python",
   "pygments_lexer": "ipython3",
   "version": "3.12.4"
  }
 },
 "nbformat": 4,
 "nbformat_minor": 4
}
