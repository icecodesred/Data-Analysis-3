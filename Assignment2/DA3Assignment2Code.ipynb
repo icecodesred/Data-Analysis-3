{
 "cells": [
  {
   "cell_type": "code",
   "execution_count": 1,
   "id": "6ce467b6-dc22-4d5d-b2d3-38fb3ec13913",
   "metadata": {},
   "outputs": [],
   "source": [
    "import os\n",
    "import sys\n",
    "import warnings\n",
    "from sklearn.metrics import mean_squared_error, roc_auc_score\n",
    "import matplotlib.pyplot as plt\n",
    "import numpy as np\n",
    "import pandas as pd\n",
    "import patsy\n",
    "import sklearn.metrics as metrics\n",
    "import statsmodels.formula.api as smf\n",
    "import pandas as pd\n",
    "import numpy as np\n",
    "import matplotlib.pyplot as plt\n",
    "from sklearn.linear_model import LogisticRegression\n",
    "from sklearn.ensemble import RandomForestClassifier\n",
    "from xgboost import XGBClassifier\n",
    "from sklearn.metrics import confusion_matrix, classification_report, roc_curve, roc_auc_score\n",
    "from sklearn.model_selection import train_test_split, StratifiedKFold, cross_val_score\n",
    "from sklearn.preprocessing import StandardScaler\n",
    "\n",
    "warnings.filterwarnings(\"ignore\")\n",
    "\n",
    "data = pd.read_csv('bisnode_firms_clean2.csv')\n",
    "df=pd.DataFrame(data)"
   ]
  },
  {
   "cell_type": "code",
   "execution_count": 2,
   "id": "3a87d764-dddb-4586-a769-1995c35c1c31",
   "metadata": {},
   "outputs": [],
   "source": [
    "df_wide = df.pivot(index='comp_id', columns='year', values='sales')\n",
    "df_wide = df_wide.dropna(subset=[2012, 2014])\n",
    "df_wide = df_wide[(df_wide[2012] > 0) & (df_wide[2014] > 0)]\n",
    "valid_comp_ids = df_wide.index "
   ]
  },
  {
   "cell_type": "code",
   "execution_count": 3,
   "id": "91c359f8-a7a2-43a3-8a99-815bebb67ea3",
   "metadata": {},
   "outputs": [],
   "source": [
    "valid_comp_ids = df_wide.index\n",
    "df2 = df[df['comp_id'].isin(valid_comp_ids)]\n",
    "df2 = df[df['comp_id'].isin(valid_comp_ids)].copy()"
   ]
  },
  {
   "cell_type": "code",
   "execution_count": 4,
   "id": "e11c1965-95f1-44bf-b7ea-05557d2fb3e4",
   "metadata": {},
   "outputs": [],
   "source": [
    "df_2012 = df2[df2['year'] == 2012][['comp_id','sales']].rename(columns={'sales': 'sales_2012'})\n",
    "df_2014 = df2[df2['year'] == 2014][['comp_id','sales']].rename(columns={'sales': 'sales_2014'})\n",
    "\n",
    "df_merged = pd.merge(df_2012, df_2014, on='comp_id', how='inner')"
   ]
  },
  {
   "cell_type": "code",
   "execution_count": 5,
   "id": "8eb90fd6-10bd-4196-8dca-c1989d2b21d4",
   "metadata": {},
   "outputs": [],
   "source": [
    "df_merged['growth_rate'] = (df_merged['sales_2014'] - df_merged['sales_2012']) / df_merged['sales_2012']\n",
    "q75 = df_merged['growth_rate'].quantile(0.75)\n",
    "df_merged['fast_growth'] = (df_merged['growth_rate'] >= q75).astype(int)"
   ]
  },
  {
   "cell_type": "code",
   "execution_count": 6,
   "id": "f2530798-3e4d-451a-a79a-444823a3e7d1",
   "metadata": {},
   "outputs": [],
   "source": [
    "df2 = pd.merge(df2, df_merged[['comp_id', 'fast_growth']], on='comp_id', how='left')"
   ]
  },
  {
   "cell_type": "code",
   "execution_count": 7,
   "id": "9fe294fd-dde9-41b7-9834-bec439ed2eb4",
   "metadata": {},
   "outputs": [],
   "source": [
    "df_2012 = df2[df2['year'] == 2012].copy()"
   ]
  },
  {
   "cell_type": "code",
   "execution_count": 8,
   "id": "87b1dbf5-4501-4fbd-aa09-eda80dc07aa0",
   "metadata": {},
   "outputs": [
    {
     "data": {
      "text/html": [
       "<div>\n",
       "<style scoped>\n",
       "    .dataframe tbody tr th:only-of-type {\n",
       "        vertical-align: middle;\n",
       "    }\n",
       "\n",
       "    .dataframe tbody tr th {\n",
       "        vertical-align: top;\n",
       "    }\n",
       "\n",
       "    .dataframe thead th {\n",
       "        text-align: right;\n",
       "    }\n",
       "</style>\n",
       "<table border=\"1\" class=\"dataframe\">\n",
       "  <thead>\n",
       "    <tr style=\"text-align: right;\">\n",
       "      <th></th>\n",
       "      <th>year</th>\n",
       "      <th>comp_id</th>\n",
       "      <th>amort</th>\n",
       "      <th>curr_assets</th>\n",
       "      <th>curr_liab</th>\n",
       "      <th>extra_exp</th>\n",
       "      <th>extra_inc</th>\n",
       "      <th>extra_profit_loss</th>\n",
       "      <th>fixed_assets</th>\n",
       "      <th>inc_bef_tax</th>\n",
       "      <th>...</th>\n",
       "      <th>flag_low_ceo_age</th>\n",
       "      <th>flag_high_ceo_age</th>\n",
       "      <th>flag_miss_ceo_age</th>\n",
       "      <th>ceo_young</th>\n",
       "      <th>sales_mil_log_sq</th>\n",
       "      <th>flag_low_d1_sales_mil_log</th>\n",
       "      <th>flag_high_d1_sales_mil_log</th>\n",
       "      <th>d1_sales_mil_log_mod</th>\n",
       "      <th>d1_sales_mil_log_mod_sq</th>\n",
       "      <th>fast_growth</th>\n",
       "    </tr>\n",
       "  </thead>\n",
       "  <tbody>\n",
       "    <tr>\n",
       "      <th>count</th>\n",
       "      <td>14603.0</td>\n",
       "      <td>1.460300e+04</td>\n",
       "      <td>1.460300e+04</td>\n",
       "      <td>1.460300e+04</td>\n",
       "      <td>1.460300e+04</td>\n",
       "      <td>14603.000000</td>\n",
       "      <td>1.460300e+04</td>\n",
       "      <td>1.460300e+04</td>\n",
       "      <td>1.460300e+04</td>\n",
       "      <td>1.460300e+04</td>\n",
       "      <td>...</td>\n",
       "      <td>14603.000000</td>\n",
       "      <td>14603.000000</td>\n",
       "      <td>14603.000000</td>\n",
       "      <td>14603.000000</td>\n",
       "      <td>1.460300e+04</td>\n",
       "      <td>14603.000000</td>\n",
       "      <td>14603.000000</td>\n",
       "      <td>14603.000000</td>\n",
       "      <td>14603.000000</td>\n",
       "      <td>14603.000000</td>\n",
       "    </tr>\n",
       "    <tr>\n",
       "      <th>mean</th>\n",
       "      <td>2012.0</td>\n",
       "      <td>1.535013e+11</td>\n",
       "      <td>1.036150e+04</td>\n",
       "      <td>1.084479e+05</td>\n",
       "      <td>8.688942e+04</td>\n",
       "      <td>423.174095</td>\n",
       "      <td>1.793202e+03</td>\n",
       "      <td>1.365473e+03</td>\n",
       "      <td>1.654693e+05</td>\n",
       "      <td>1.069085e+04</td>\n",
       "      <td>...</td>\n",
       "      <td>0.009039</td>\n",
       "      <td>0.003972</td>\n",
       "      <td>0.124221</td>\n",
       "      <td>0.252551</td>\n",
       "      <td>1.062179e+01</td>\n",
       "      <td>0.022324</td>\n",
       "      <td>0.020407</td>\n",
       "      <td>-0.000463</td>\n",
       "      <td>0.231565</td>\n",
       "      <td>0.250017</td>\n",
       "    </tr>\n",
       "    <tr>\n",
       "      <th>std</th>\n",
       "      <td>0.0</td>\n",
       "      <td>1.379332e+11</td>\n",
       "      <td>5.106030e+04</td>\n",
       "      <td>4.301616e+05</td>\n",
       "      <td>3.111599e+05</td>\n",
       "      <td>7210.096048</td>\n",
       "      <td>3.672979e+04</td>\n",
       "      <td>3.586485e+04</td>\n",
       "      <td>1.190694e+06</td>\n",
       "      <td>1.029814e+05</td>\n",
       "      <td>...</td>\n",
       "      <td>0.094647</td>\n",
       "      <td>0.062899</td>\n",
       "      <td>0.329845</td>\n",
       "      <td>0.434490</td>\n",
       "      <td>9.461312e+00</td>\n",
       "      <td>0.147741</td>\n",
       "      <td>0.141392</td>\n",
       "      <td>0.481228</td>\n",
       "      <td>0.526019</td>\n",
       "      <td>0.433037</td>\n",
       "    </tr>\n",
       "    <tr>\n",
       "      <th>min</th>\n",
       "      <td>2012.0</td>\n",
       "      <td>1.001541e+06</td>\n",
       "      <td>-1.489630e+04</td>\n",
       "      <td>0.000000e+00</td>\n",
       "      <td>-8.759259e+03</td>\n",
       "      <td>-1418.518555</td>\n",
       "      <td>-1.740741e+02</td>\n",
       "      <td>-1.702444e+05</td>\n",
       "      <td>0.000000e+00</td>\n",
       "      <td>-1.984182e+06</td>\n",
       "      <td>...</td>\n",
       "      <td>0.000000</td>\n",
       "      <td>0.000000</td>\n",
       "      <td>0.000000</td>\n",
       "      <td>0.000000</td>\n",
       "      <td>2.074996e-07</td>\n",
       "      <td>0.000000</td>\n",
       "      <td>0.000000</td>\n",
       "      <td>-1.500000</td>\n",
       "      <td>0.000000</td>\n",
       "      <td>0.000000</td>\n",
       "    </tr>\n",
       "    <tr>\n",
       "      <th>25%</th>\n",
       "      <td>2012.0</td>\n",
       "      <td>2.910575e+10</td>\n",
       "      <td>2.296296e+02</td>\n",
       "      <td>4.550000e+03</td>\n",
       "      <td>4.035185e+03</td>\n",
       "      <td>0.000000</td>\n",
       "      <td>0.000000e+00</td>\n",
       "      <td>0.000000e+00</td>\n",
       "      <td>5.148148e+02</td>\n",
       "      <td>-4.833333e+03</td>\n",
       "      <td>...</td>\n",
       "      <td>0.000000</td>\n",
       "      <td>0.000000</td>\n",
       "      <td>0.000000</td>\n",
       "      <td>0.000000</td>\n",
       "      <td>3.254216e+00</td>\n",
       "      <td>0.000000</td>\n",
       "      <td>0.000000</td>\n",
       "      <td>-0.148274</td>\n",
       "      <td>0.001158</td>\n",
       "      <td>0.000000</td>\n",
       "    </tr>\n",
       "    <tr>\n",
       "      <th>50%</th>\n",
       "      <td>2012.0</td>\n",
       "      <td>1.147939e+11</td>\n",
       "      <td>1.262963e+03</td>\n",
       "      <td>1.455556e+04</td>\n",
       "      <td>1.567037e+04</td>\n",
       "      <td>0.000000</td>\n",
       "      <td>0.000000e+00</td>\n",
       "      <td>0.000000e+00</td>\n",
       "      <td>7.818519e+03</td>\n",
       "      <td>5.925926e+02</td>\n",
       "      <td>...</td>\n",
       "      <td>0.000000</td>\n",
       "      <td>0.000000</td>\n",
       "      <td>0.000000</td>\n",
       "      <td>0.000000</td>\n",
       "      <td>8.297208e+00</td>\n",
       "      <td>0.000000</td>\n",
       "      <td>0.000000</td>\n",
       "      <td>0.000000</td>\n",
       "      <td>0.022940</td>\n",
       "      <td>0.000000</td>\n",
       "    </tr>\n",
       "    <tr>\n",
       "      <th>75%</th>\n",
       "      <td>2012.0</td>\n",
       "      <td>2.563127e+11</td>\n",
       "      <td>5.261111e+03</td>\n",
       "      <td>5.076111e+04</td>\n",
       "      <td>5.301296e+04</td>\n",
       "      <td>0.000000</td>\n",
       "      <td>0.000000e+00</td>\n",
       "      <td>0.000000e+00</td>\n",
       "      <td>5.618704e+04</td>\n",
       "      <td>5.805555e+03</td>\n",
       "      <td>...</td>\n",
       "      <td>0.000000</td>\n",
       "      <td>0.000000</td>\n",
       "      <td>0.000000</td>\n",
       "      <td>1.000000</td>\n",
       "      <td>1.536874e+01</td>\n",
       "      <td>0.000000</td>\n",
       "      <td>0.000000</td>\n",
       "      <td>0.153557</td>\n",
       "      <td>0.146307</td>\n",
       "      <td>0.500000</td>\n",
       "    </tr>\n",
       "    <tr>\n",
       "      <th>max</th>\n",
       "      <td>2012.0</td>\n",
       "      <td>4.641050e+11</td>\n",
       "      <td>3.570863e+06</td>\n",
       "      <td>1.874527e+07</td>\n",
       "      <td>1.297067e+07</td>\n",
       "      <td>666300.000000</td>\n",
       "      <td>3.266667e+06</td>\n",
       "      <td>3.253704e+06</td>\n",
       "      <td>1.036673e+08</td>\n",
       "      <td>4.378226e+06</td>\n",
       "      <td>...</td>\n",
       "      <td>1.000000</td>\n",
       "      <td>1.000000</td>\n",
       "      <td>1.000000</td>\n",
       "      <td>1.000000</td>\n",
       "      <td>4.771708e+01</td>\n",
       "      <td>1.000000</td>\n",
       "      <td>1.000000</td>\n",
       "      <td>1.500000</td>\n",
       "      <td>2.250000</td>\n",
       "      <td>1.000000</td>\n",
       "    </tr>\n",
       "  </tbody>\n",
       "</table>\n",
       "<p>8 rows × 107 columns</p>\n",
       "</div>"
      ],
      "text/plain": [
       "          year       comp_id         amort   curr_assets     curr_liab  \\\n",
       "count  14603.0  1.460300e+04  1.460300e+04  1.460300e+04  1.460300e+04   \n",
       "mean    2012.0  1.535013e+11  1.036150e+04  1.084479e+05  8.688942e+04   \n",
       "std        0.0  1.379332e+11  5.106030e+04  4.301616e+05  3.111599e+05   \n",
       "min     2012.0  1.001541e+06 -1.489630e+04  0.000000e+00 -8.759259e+03   \n",
       "25%     2012.0  2.910575e+10  2.296296e+02  4.550000e+03  4.035185e+03   \n",
       "50%     2012.0  1.147939e+11  1.262963e+03  1.455556e+04  1.567037e+04   \n",
       "75%     2012.0  2.563127e+11  5.261111e+03  5.076111e+04  5.301296e+04   \n",
       "max     2012.0  4.641050e+11  3.570863e+06  1.874527e+07  1.297067e+07   \n",
       "\n",
       "           extra_exp     extra_inc  extra_profit_loss  fixed_assets  \\\n",
       "count   14603.000000  1.460300e+04       1.460300e+04  1.460300e+04   \n",
       "mean      423.174095  1.793202e+03       1.365473e+03  1.654693e+05   \n",
       "std      7210.096048  3.672979e+04       3.586485e+04  1.190694e+06   \n",
       "min     -1418.518555 -1.740741e+02      -1.702444e+05  0.000000e+00   \n",
       "25%         0.000000  0.000000e+00       0.000000e+00  5.148148e+02   \n",
       "50%         0.000000  0.000000e+00       0.000000e+00  7.818519e+03   \n",
       "75%         0.000000  0.000000e+00       0.000000e+00  5.618704e+04   \n",
       "max    666300.000000  3.266667e+06       3.253704e+06  1.036673e+08   \n",
       "\n",
       "        inc_bef_tax  ...  flag_low_ceo_age  flag_high_ceo_age  \\\n",
       "count  1.460300e+04  ...      14603.000000       14603.000000   \n",
       "mean   1.069085e+04  ...          0.009039           0.003972   \n",
       "std    1.029814e+05  ...          0.094647           0.062899   \n",
       "min   -1.984182e+06  ...          0.000000           0.000000   \n",
       "25%   -4.833333e+03  ...          0.000000           0.000000   \n",
       "50%    5.925926e+02  ...          0.000000           0.000000   \n",
       "75%    5.805555e+03  ...          0.000000           0.000000   \n",
       "max    4.378226e+06  ...          1.000000           1.000000   \n",
       "\n",
       "       flag_miss_ceo_age     ceo_young  sales_mil_log_sq  \\\n",
       "count       14603.000000  14603.000000      1.460300e+04   \n",
       "mean            0.124221      0.252551      1.062179e+01   \n",
       "std             0.329845      0.434490      9.461312e+00   \n",
       "min             0.000000      0.000000      2.074996e-07   \n",
       "25%             0.000000      0.000000      3.254216e+00   \n",
       "50%             0.000000      0.000000      8.297208e+00   \n",
       "75%             0.000000      1.000000      1.536874e+01   \n",
       "max             1.000000      1.000000      4.771708e+01   \n",
       "\n",
       "       flag_low_d1_sales_mil_log  flag_high_d1_sales_mil_log  \\\n",
       "count               14603.000000                14603.000000   \n",
       "mean                    0.022324                    0.020407   \n",
       "std                     0.147741                    0.141392   \n",
       "min                     0.000000                    0.000000   \n",
       "25%                     0.000000                    0.000000   \n",
       "50%                     0.000000                    0.000000   \n",
       "75%                     0.000000                    0.000000   \n",
       "max                     1.000000                    1.000000   \n",
       "\n",
       "       d1_sales_mil_log_mod  d1_sales_mil_log_mod_sq   fast_growth  \n",
       "count          14603.000000             14603.000000  14603.000000  \n",
       "mean              -0.000463                 0.231565      0.250017  \n",
       "std                0.481228                 0.526019      0.433037  \n",
       "min               -1.500000                 0.000000      0.000000  \n",
       "25%               -0.148274                 0.001158      0.000000  \n",
       "50%                0.000000                 0.022940      0.000000  \n",
       "75%                0.153557                 0.146307      0.500000  \n",
       "max                1.500000                 2.250000      1.000000  \n",
       "\n",
       "[8 rows x 107 columns]"
      ]
     },
     "execution_count": 8,
     "metadata": {},
     "output_type": "execute_result"
    }
   ],
   "source": [
    "df_2012.describe()"
   ]
  },
  {
   "cell_type": "code",
   "execution_count": 9,
   "id": "505c6609-34ba-4141-8883-fce39873fb51",
   "metadata": {},
   "outputs": [],
   "source": [
    "all_predictors=['curr_assets', 'curr_liab', 'extra_exp', 'extra_inc', 'extra_profit_loss', 'fixed_assets', 'inc_bef_tax', 'intang_assets', 'inventories', 'liq_assets', 'material_exp', 'personnel_exp', 'profit_loss_year', 'sales', 'share_eq', 'subscribed_cap', 'total_assets_bs', 'fixed_assets_bs', 'liq_assets_bs', 'curr_assets_bs', 'share_eq_bs', 'subscribed_cap_bs', 'intang_assets_bs', 'extra_exp_pl', 'extra_inc_pl', 'extra_profit_loss_pl', 'inc_bef_tax_pl', 'inventories_pl', 'material_exp_pl', 'profit_loss_year_pl', 'personnel_exp_pl', 'balsheet_flag', 'balsheet_length', 'balsheet_notfullyear', 'female', 'ceo_age', 'flag_high_ceo_age', 'flag_low_ceo_age', 'flag_miss_ceo_age', 'ceo_count', 'foreign_management', 'age', 'age2', 'new']"
   ]
  },
  {
   "cell_type": "code",
   "execution_count": 10,
   "id": "276007fe-1760-4b14-970c-a3c1b795ec3b",
   "metadata": {},
   "outputs": [],
   "source": [
    "all_predictors = list(dict.fromkeys(all_predictors))"
   ]
  },
  {
   "cell_type": "code",
   "execution_count": 11,
   "id": "ea66e256-4cc6-48ff-8164-a5163f5c5a38",
   "metadata": {},
   "outputs": [
    {
     "name": "stdout",
     "output_type": "stream",
     "text": [
      "['curr_assets', 'curr_liab', 'extra_exp', 'extra_inc', 'extra_profit_loss', 'fixed_assets', 'inc_bef_tax', 'intang_assets', 'inventories', 'liq_assets', 'material_exp', 'personnel_exp', 'profit_loss_year', 'sales', 'share_eq', 'subscribed_cap', 'total_assets_bs', 'fixed_assets_bs', 'liq_assets_bs', 'curr_assets_bs', 'share_eq_bs', 'subscribed_cap_bs', 'intang_assets_bs', 'extra_exp_pl', 'extra_inc_pl', 'extra_profit_loss_pl', 'inc_bef_tax_pl', 'inventories_pl', 'material_exp_pl', 'profit_loss_year_pl', 'personnel_exp_pl', 'balsheet_flag', 'balsheet_length', 'balsheet_notfullyear', 'female', 'ceo_age', 'flag_high_ceo_age', 'flag_low_ceo_age', 'flag_miss_ceo_age', 'ceo_count', 'foreign_management', 'age', 'age2', 'new']\n"
     ]
    }
   ],
   "source": [
    "print(all_predictors)"
   ]
  },
  {
   "cell_type": "code",
   "execution_count": 12,
   "id": "3c99710a-5fa9-41c0-9fc2-f21e7a621dd4",
   "metadata": {},
   "outputs": [],
   "source": [
    "X = df_2012[all_predictors].copy()\n",
    "y = df_2012['fast_growth']"
   ]
  },
  {
   "cell_type": "code",
   "execution_count": 13,
   "id": "40d30335-e897-47d9-8868-fb27e38968a4",
   "metadata": {},
   "outputs": [],
   "source": [
    "X_train, X_holdout, y_train, y_holdout = train_test_split(\n",
    "    X, y, test_size=0.2, stratify=y, random_state=42\n",
    ")"
   ]
  },
  {
   "cell_type": "code",
   "execution_count": 14,
   "id": "0d725fe2-f59d-44b7-ba95-462d2fd0346e",
   "metadata": {},
   "outputs": [],
   "source": [
    "scaler = StandardScaler()\n",
    "X_train_scaled = scaler.fit_transform(X_train)"
   ]
  },
  {
   "cell_type": "code",
   "execution_count": 15,
   "id": "79e724d4-66a7-4afd-8dc2-64ffba8d50ab",
   "metadata": {},
   "outputs": [],
   "source": [
    "logit_lasso = LogisticRegression(\n",
    "    penalty='l1',\n",
    "    solver='liblinear',\n",
    "    C=1.0, \n",
    "    random_state=42\n",
    ")\n",
    "rf = RandomForestClassifier(n_estimators=100, random_state=42)\n",
    "xgb = XGBClassifier(random_state=42, use_label_encoder=False, eval_metric='logloss')"
   ]
  },
  {
   "cell_type": "code",
   "execution_count": 16,
   "id": "01eff85b-cbe3-4190-9566-d1910634cad4",
   "metadata": {},
   "outputs": [],
   "source": [
    "models = {\n",
    "    'Lasso Logistic': (logit_lasso, X_train_scaled),\n",
    "    'Random Forest': (rf, X_train),\n",
    "    'XGBoost': (xgb, X_train)\n",
    "}"
   ]
  },
  {
   "cell_type": "code",
   "execution_count": 17,
   "id": "972f54c9-9870-4a61-9c11-205fd0383d40",
   "metadata": {},
   "outputs": [],
   "source": [
    "skf = StratifiedKFold(n_splits=5, shuffle=True, random_state=42)"
   ]
  },
  {
   "cell_type": "code",
   "execution_count": 18,
   "id": "feecbd12-769b-4a54-b715-d2952b1dce3a",
   "metadata": {},
   "outputs": [],
   "source": [
    "rmse_results = {model_name: [] for model_name in models.keys()}\n",
    "auc_results = {model_name: [] for model_name in models.keys()}\n",
    "loss_results = {model_name: [] for model_name in models.keys()}\n",
    "threshold_results = {model_name: [] for model_name in models.keys()}\n",
    "\n",
    "fold_names = []\n",
    "fold = 1\n",
    "\n",
    "thresholds = np.linspace(0, 1, 101)  # 0.00, 0.01, ..., 1.00"
   ]
  },
  {
   "cell_type": "code",
   "execution_count": 19,
   "id": "57bb8ba8-883c-406b-8b8f-b1e2cff5a93e",
   "metadata": {},
   "outputs": [],
   "source": [
    "cost_fp = 2\n",
    "cost_fn = 5\n",
    "\n",
    "def expected_loss(y_true, y_prob, threshold, cost_fp, cost_fn):\n",
    "    from sklearn.metrics import confusion_matrix\n",
    "    y_pred = (y_prob >= threshold).astype(int)\n",
    "    cm = confusion_matrix(y_true, y_pred)\n",
    "    if cm.shape == (1, 1):\n",
    "        if y_true.iloc[0] == 0:\n",
    "            fp = 0\n",
    "            fn = len(y_true)\n",
    "        else:\n",
    "            fp = len(y_true)\n",
    "            fn = 0\n",
    "    else:\n",
    "        fp = cm[0, 1]\n",
    "        fn = cm[1, 0]\n",
    "    return cost_fp * fp + cost_fn * fn"
   ]
  },
  {
   "cell_type": "code",
   "execution_count": 20,
   "id": "949a26de-7046-4132-bb9c-fcfe7b86dd78",
   "metadata": {},
   "outputs": [],
   "source": [
    "for train_index, test_index in skf.split(X_train, y_train):\n",
    "    fold_names.append(f'Fold {fold}')\n",
    "    fold += 1\n",
    "    \n",
    "    for model_name, (model, X_model) in models.items():\n",
    "        if isinstance(X_model, pd.DataFrame):\n",
    "            X_fold_train = X_model.iloc[train_index]\n",
    "            X_fold_test = X_model.iloc[test_index]\n",
    "        else:\n",
    "            X_fold_train = X_model[train_index]\n",
    "            X_fold_test = X_model[test_index]\n",
    "        \n",
    "        y_fold_train, y_fold_test = y_train.iloc[train_index], y_train.iloc[test_index]\n",
    "        \n",
    "        model.fit(X_fold_train, y_fold_train)\n",
    "        \n",
    "        y_prob = model.predict_proba(X_fold_test)[:, 1]\n",
    "        \n",
    "        rmse = np.sqrt(mean_squared_error(y_fold_test, y_prob))\n",
    "        rmse_results[model_name].append(rmse)\n",
    "        \n",
    "        auc_val = roc_auc_score(y_fold_test, y_prob)\n",
    "        auc_results[model_name].append(auc_val)\n",
    "        \n",
    "        losses = [expected_loss(y_fold_test, y_prob, t, cost_fp, cost_fn) for t in thresholds]\n",
    "        best_idx = np.argmin(losses)\n",
    "        best_loss = losses[best_idx]\n",
    "        best_thresh = thresholds[best_idx]\n",
    "\n",
    "        loss_results[model_name].append(best_loss)\n",
    "        threshold_results[model_name].append(best_thresh)\n"
   ]
  },
  {
   "cell_type": "code",
   "execution_count": 21,
   "id": "78dd6a93-071b-44ca-aee1-270876e26252",
   "metadata": {},
   "outputs": [],
   "source": [
    "rmse_df = pd.DataFrame(rmse_results, index=fold_names)\n",
    "auc_df = pd.DataFrame(auc_results, index=fold_names)\n",
    "loss_df = pd.DataFrame(loss_results, index=fold_names)\n",
    "threshold_df = pd.DataFrame(threshold_results, index=fold_names)"
   ]
  },
  {
   "cell_type": "code",
   "execution_count": 22,
   "id": "c861d756-3a35-4656-bae1-c41ad84f5b7e",
   "metadata": {},
   "outputs": [],
   "source": [
    "rmse_df.loc['Mean'] = rmse_df.mean()\n",
    "auc_df.loc['Mean'] = auc_df.mean()\n",
    "loss_df.loc['Mean'] = loss_df.mean()\n",
    "threshold_df.loc['Mean'] = threshold_df.mean()"
   ]
  },
  {
   "cell_type": "code",
   "execution_count": 23,
   "id": "f95dc1fb-e196-4b21-8753-9d96bb929ccb",
   "metadata": {},
   "outputs": [
    {
     "name": "stdout",
     "output_type": "stream",
     "text": [
      "Cross-Validated RMSE (on predicted probabilities):\n",
      "        Lasso Logistic  Random Forest   XGBoost\n",
      "Fold 1        0.402619       0.402528  0.416202\n",
      "Fold 2        0.411830       0.402406  0.415253\n",
      "Fold 3        0.408192       0.405688  0.423503\n",
      "Fold 4        0.407717       0.401057  0.419062\n",
      "Fold 5        0.411095       0.406021  0.421719\n",
      "Mean          0.408291       0.403540  0.419148\n",
      "\n",
      "Cross-Validated AUC:\n",
      "        Lasso Logistic  Random Forest   XGBoost\n",
      "Fold 1        0.694502       0.702504  0.680927\n",
      "Fold 2        0.680775       0.708842  0.699742\n",
      "Fold 3        0.686879       0.695275  0.672853\n",
      "Fold 4        0.698786       0.721573  0.686748\n",
      "Fold 5        0.685180       0.698140  0.687515\n",
      "Mean          0.689224       0.705267  0.685557\n",
      "\n",
      "Cross-Validated Expected Loss:\n",
      "        Lasso Logistic  Random Forest  XGBoost\n",
      "Fold 1          2189.0         2175.0   2279.0\n",
      "Fold 2          2263.0         2170.0   2248.0\n",
      "Fold 3          2281.0         2168.0   2312.0\n",
      "Fold 4          2148.0         2132.0   2257.0\n",
      "Fold 5          2262.0         2184.0   2249.0\n",
      "Mean            2228.6         2165.8   2269.0\n",
      "\n",
      "Cross-Validated Best Thresholds (for minimal loss):\n",
      "        Lasso Logistic  Random Forest  XGBoost\n",
      "Fold 1           0.340          0.390    0.300\n",
      "Fold 2           0.290          0.310    0.330\n",
      "Fold 3           0.330          0.340    0.290\n",
      "Fold 4           0.290          0.290    0.360\n",
      "Fold 5           0.270          0.380    0.330\n",
      "Mean             0.304          0.342    0.322\n"
     ]
    }
   ],
   "source": [
    "print(\"Cross-Validated RMSE (on predicted probabilities):\")\n",
    "print(rmse_df)\n",
    "print(\"\\nCross-Validated AUC:\")\n",
    "print(auc_df)\n",
    "print(\"\\nCross-Validated Expected Loss:\")\n",
    "print(loss_df)\n",
    "print(\"\\nCross-Validated Best Thresholds (for minimal loss):\")\n",
    "print(threshold_df)"
   ]
  },
  {
   "cell_type": "code",
   "execution_count": 24,
   "id": "4aadf3f7-d35b-4d2a-800b-2bff2a206add",
   "metadata": {},
   "outputs": [
    {
     "name": "stdout",
     "output_type": "stream",
     "text": [
      "\n",
      "Best model is: Random Forest, with an average expected loss of 2165.80\n"
     ]
    }
   ],
   "source": [
    "avg_loss = loss_df.loc['Mean']\n",
    "best_model = avg_loss.idxmin()\n",
    "print(f\"\\nBest model is: {best_model}, with an average expected loss of {avg_loss[best_model]:.2f}\")"
   ]
  },
  {
   "cell_type": "code",
   "execution_count": 25,
   "id": "6a362b95-765f-4444-aa80-2eefbbbbc2ae",
   "metadata": {},
   "outputs": [],
   "source": [
    "rf.fit(X_train, y_train)\n",
    "xgb.fit(X_train, y_train)\n",
    "\n",
    "y_prob_rf = rf.predict_proba(X_holdout)[:, 1]\n",
    "y_prob_xgb = xgb.predict_proba(X_holdout)[:, 1]"
   ]
  },
  {
   "cell_type": "code",
   "execution_count": 26,
   "id": "e8f95e24-38d3-4f62-96de-c79d7ab17c90",
   "metadata": {},
   "outputs": [],
   "source": [
    "best_threshold_rf=0.432\n",
    "best_threshold_xgb=0.322\n",
    "\n",
    "y_pred_rf = (y_prob_rf >= best_threshold_rf).astype(int)\n",
    "y_pred_xgb = (y_prob_xgb >= best_threshold_xgb).astype(int)"
   ]
  },
  {
   "cell_type": "code",
   "execution_count": 27,
   "id": "0d82a50b-bd0c-45cf-b9b9-f640265d7351",
   "metadata": {},
   "outputs": [],
   "source": [
    "cm_rf = confusion_matrix(y_holdout, y_pred_rf)\n",
    "cm_xgb = confusion_matrix(y_holdout, y_pred_xgb)"
   ]
  },
  {
   "cell_type": "code",
   "execution_count": 28,
   "id": "b8cc141a-1024-4e62-b1c6-a5ab58c9ffad",
   "metadata": {},
   "outputs": [
    {
     "name": "stdout",
     "output_type": "stream",
     "text": [
      "Random Forest Confusion Matrix (Holdout):\n",
      " [[2030  161]\n",
      " [ 489  241]]\n",
      "Random Forest Classification Report (Holdout):\n",
      "              precision    recall  f1-score   support\n",
      "\n",
      "           0       0.81      0.93      0.86      2191\n",
      "           1       0.60      0.33      0.43       730\n",
      "\n",
      "    accuracy                           0.78      2921\n",
      "   macro avg       0.70      0.63      0.64      2921\n",
      "weighted avg       0.75      0.78      0.75      2921\n",
      "\n"
     ]
    }
   ],
   "source": [
    "print(\"Random Forest Confusion Matrix (Holdout):\\n\", cm_rf)\n",
    "print(\"Random Forest Classification Report (Holdout):\")\n",
    "print(classification_report(y_holdout, y_pred_rf))"
   ]
  },
  {
   "cell_type": "code",
   "execution_count": 29,
   "id": "a8c01524-58ba-4281-bc24-9e86b9362fe1",
   "metadata": {},
   "outputs": [
    {
     "name": "stdout",
     "output_type": "stream",
     "text": [
      "\n",
      "XGBoost Confusion Matrix (Holdout):\n",
      " [[1801  390]\n",
      " [ 400  330]]\n",
      "XGBoost Classification Report (Holdout):\n",
      "              precision    recall  f1-score   support\n",
      "\n",
      "           0       0.82      0.82      0.82      2191\n",
      "           1       0.46      0.45      0.46       730\n",
      "\n",
      "    accuracy                           0.73      2921\n",
      "   macro avg       0.64      0.64      0.64      2921\n",
      "weighted avg       0.73      0.73      0.73      2921\n",
      "\n"
     ]
    }
   ],
   "source": [
    "print(\"\\nXGBoost Confusion Matrix (Holdout):\\n\", cm_xgb)\n",
    "print(\"XGBoost Classification Report (Holdout):\")\n",
    "print(classification_report(y_holdout, y_pred_xgb))"
   ]
  },
  {
   "cell_type": "code",
   "execution_count": 30,
   "id": "0c78c2e1-52e4-4c42-be1c-a0c621c87cfb",
   "metadata": {},
   "outputs": [],
   "source": [
    "fpr_rf, tpr_rf, _ = roc_curve(y_holdout, y_prob_rf)\n",
    "auc_rf = roc_auc_score(y_holdout, y_prob_rf)"
   ]
  },
  {
   "cell_type": "code",
   "execution_count": 31,
   "id": "f36cc37e-f885-450b-87c0-dac709f280aa",
   "metadata": {},
   "outputs": [],
   "source": [
    "fpr_xgb, tpr_xgb, _ = roc_curve(y_holdout, y_prob_xgb)\n",
    "auc_xgb = roc_auc_score(y_holdout, y_prob_xgb)"
   ]
  },
  {
   "cell_type": "code",
   "execution_count": 32,
   "id": "332285ca-8556-4dbb-aa37-c5fb08c1886b",
   "metadata": {},
   "outputs": [
    {
     "data": {
      "image/png": "[encoded data removed]",
      "text/plain": [
       "<Figure size 800x600 with 1 Axes>"
      ]
     },
     "metadata": {},
     "output_type": "display_data"
    }
   ],
   "source": [
    "plt.figure(figsize=(8, 6))\n",
    "plt.plot(fpr_rf, tpr_rf, label=f'Random Forest ROC (AUC = {auc_rf:.3f})')\n",
    "plt.plot(fpr_xgb, tpr_xgb, label=f'XGBoost ROC (AUC = {auc_xgb:.3f})')\n",
    "plt.plot([0, 1], [0, 1], 'k--', label='Chance')  \n",
    "plt.xlabel('False Positive Rate')\n",
    "plt.ylabel('True Positive Rate')\n",
    "plt.title('ROC Curves on Holdout Set')\n",
    "plt.legend()\n",
    "plt.show()"
   ]
  },
  {
   "cell_type": "code",
   "execution_count": 33,
   "id": "965d1332-5bd3-4ffb-9561-1e1e157a2d55",
   "metadata": {},
   "outputs": [],
   "source": [
    "importances = rf.feature_importances_"
   ]
  },
  {
   "cell_type": "code",
   "execution_count": 34,
   "id": "5f697398-033a-476e-b7c4-d9da010cde65",
   "metadata": {},
   "outputs": [],
   "source": [
    "if isinstance(X_train, pd.DataFrame):\n",
    "    feature_names = X_train.columns\n",
    "else:\n",
    "    feature_names = all_predictors"
   ]
  },
  {
   "cell_type": "code",
   "execution_count": 35,
   "id": "c4005415-2e44-4386-b486-1f457b9aeb01",
   "metadata": {},
   "outputs": [],
   "source": [
    "importance_df = pd.DataFrame({\n",
    "    'feature': feature_names,\n",
    "    'importance': importances\n",
    "}).sort_values(by='importance', ascending=False)"
   ]
  },
  {
   "cell_type": "code",
   "execution_count": 36,
   "id": "6f169171-e33d-4aa0-8686-8d3812779619",
   "metadata": {},
   "outputs": [],
   "source": [
    "filtered_importance_df = importance_df[importance_df['importance'] >= 0.02]"
   ]
  },
  {
   "cell_type": "code",
   "execution_count": 37,
   "id": "734654a7-249f-4bcf-9b54-fb8d2817d802",
   "metadata": {},
   "outputs": [
    {
     "data": {
      "image/png": "[encoded data removed]",
      "text/plain": [
       "<Figure size 1000x600 with 1 Axes>"
      ]
     },
     "metadata": {},
     "output_type": "display_data"
    }
   ],
   "source": [
    "plt.figure(figsize=(10, 6))\n",
    "plt.barh(filtered_importance_df['feature'], filtered_importance_df['importance'], color='skyblue')\n",
    "plt.gca().invert_yaxis()  # Highest importance at the top\n",
    "plt.xlabel('Feature Importance')\n",
    "plt.title('Random Forest Variable Importance (>= 0.02)')\n",
    "plt.show()"
   ]
  },
  {
   "cell_type": "code",
   "execution_count": null,
   "id": "d9d8a0e2-85bb-47d9-ac3d-33ef67ff87e6",
   "metadata": {},
   "outputs": [],
   "source": []
  }
 ],
 "metadata": {
  "kernelspec": {
   "display_name": "Python 3 (ipykernel)",
   "language": "python",
   "name": "python3"
  },
  "language_info": {
   "codemirror_mode": {
    "name": "ipython",
    "version": 3
   },
   "file_extension": ".py",
   "mimetype": "text/x-python",
   "name": "python",
   "nbconvert_exporter": "python",
   "pygments_lexer": "ipython3",
   "version": "3.12.4"
  }
 },
 "nbformat": 4,
 "nbformat_minor": 5
}
